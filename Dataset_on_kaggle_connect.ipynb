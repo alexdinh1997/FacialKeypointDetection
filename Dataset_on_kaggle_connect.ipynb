{
    "cells": [
        {
            "metadata": {},
            "cell_type": "markdown",
            "source": "<h1>Access Dataset from kaggle</h1>"
        },
        {
            "metadata": {
                "scrolled": true
            },
            "cell_type": "code",
            "source": "!pip install kaggle",
            "execution_count": 1,
            "outputs": [
                {
                    "output_type": "stream",
                    "text": "Collecting kaggle\n  Downloading kaggle-1.5.9.tar.gz (58 kB)\n\u001b[K     |\u2588\u2588\u2588\u2588\u2588\u2588\u2588\u2588\u2588\u2588\u2588\u2588\u2588\u2588\u2588\u2588\u2588\u2588\u2588\u2588\u2588\u2588\u2588\u2588\u2588\u2588\u2588\u2588\u2588\u2588\u2588\u2588| 58 kB 6.9 MB/s  eta 0:00:01\n\u001b[?25hRequirement already satisfied: six>=1.10 in /opt/conda/envs/Python-3.7-main/lib/python3.7/site-packages (from kaggle) (1.15.0)\nRequirement already satisfied: certifi in /opt/conda/envs/Python-3.7-main/lib/python3.7/site-packages (from kaggle) (2020.6.20)\nRequirement already satisfied: python-dateutil in /opt/conda/envs/Python-3.7-main/lib/python3.7/site-packages (from kaggle) (2.8.1)\nRequirement already satisfied: requests in /opt/conda/envs/Python-3.7-main/lib/python3.7/site-packages (from kaggle) (2.24.0)\nRequirement already satisfied: tqdm in /opt/conda/envs/Python-3.7-main/lib/python3.7/site-packages (from kaggle) (4.47.0)\nCollecting python-slugify\n  Downloading python-slugify-4.0.1.tar.gz (11 kB)\nCollecting slugify\n  Downloading slugify-0.0.1.tar.gz (1.2 kB)\nRequirement already satisfied: urllib3 in /opt/conda/envs/Python-3.7-main/lib/python3.7/site-packages (from kaggle) (1.25.9)\nRequirement already satisfied: idna<3,>=2.5 in /opt/conda/envs/Python-3.7-main/lib/python3.7/site-packages (from requests->kaggle) (2.9)\nRequirement already satisfied: chardet<4,>=3.0.2 in /opt/conda/envs/Python-3.7-main/lib/python3.7/site-packages (from requests->kaggle) (3.0.4)\nCollecting text-unidecode>=1.3\n  Downloading text_unidecode-1.3-py2.py3-none-any.whl (78 kB)\n\u001b[K     |\u2588\u2588\u2588\u2588\u2588\u2588\u2588\u2588\u2588\u2588\u2588\u2588\u2588\u2588\u2588\u2588\u2588\u2588\u2588\u2588\u2588\u2588\u2588\u2588\u2588\u2588\u2588\u2588\u2588\u2588\u2588\u2588| 78 kB 6.1 MB/s  eta 0:00:01\n\u001b[?25hBuilding wheels for collected packages: kaggle, python-slugify, slugify\n  Building wheel for kaggle (setup.py) ... \u001b[?25ldone\n\u001b[?25h  Created wheel for kaggle: filename=kaggle-1.5.9-py3-none-any.whl size=73265 sha256=96ae9631abcec6d0067fb1ef88fd5a174fd777778acb6f515a5bb40a455c1cb5\n  Stored in directory: /tmp/wsuser/.cache/pip/wheels/09/25/76/1bbe8ad0c423e8655942b6d3c781f58e0ea2791bf8ee8985b3\n  Building wheel for python-slugify (setup.py) ... \u001b[?25ldone\n\u001b[?25h  Created wheel for python-slugify: filename=python_slugify-4.0.1-py2.py3-none-any.whl size=6767 sha256=d3d66724e4b2887c18ecd6308b6ce13287dcd51bb6ee8d0b48a07c53f6aa10f6\n  Stored in directory: /tmp/wsuser/.cache/pip/wheels/48/1b/6f/5c1cfab22eacbe0095fc619786da6571b55253653c71324b5c\n  Building wheel for slugify (setup.py) ... \u001b[?25ldone\n\u001b[?25h  Created wheel for slugify: filename=slugify-0.0.1-py3-none-any.whl size=1908 sha256=4aa0a4f56bc73204a37f1ff6aec41dabb0d91f02acddca90487a324f737d7a7d\n  Stored in directory: /tmp/wsuser/.cache/pip/wheels/d4/7b/0d/bd65011a1b442843bb4043e396f727ab0f1e76050355b9156a\nSuccessfully built kaggle python-slugify slugify\nInstalling collected packages: text-unidecode, python-slugify, slugify, kaggle\nSuccessfully installed kaggle-1.5.9 python-slugify-4.0.1 slugify-0.0.1 text-unidecode-1.3\n",
                    "name": "stdout"
                }
            ]
        },
        {
            "metadata": {},
            "cell_type": "markdown",
            "source": "<h2>We make direction path to json file</h2>"
        },
        {
            "metadata": {},
            "cell_type": "code",
            "source": "\n!mkdir .kaggle\n",
            "execution_count": 9,
            "outputs": [
                {
                    "output_type": "stream",
                    "text": "mkdir: cannot create directory \u2018.kaggle\u2019: File exists\r\n",
                    "name": "stdout"
                }
            ]
        },
        {
            "metadata": {},
            "cell_type": "code",
            "source": "cd ",
            "execution_count": 10,
            "outputs": [
                {
                    "output_type": "stream",
                    "text": "/home/wsuser\n",
                    "name": "stdout"
                }
            ]
        },
        {
            "metadata": {},
            "cell_type": "code",
            "source": "import json\ntoken = {\"username\":\"alexdinh\",\"key\":\"5056575ea8a85a232480ddb786526de0\"}\n",
            "execution_count": 14,
            "outputs": []
        },
        {
            "metadata": {},
            "cell_type": "code",
            "source": "!mkdir .kaggle",
            "execution_count": 16,
            "outputs": []
        },
        {
            "metadata": {},
            "cell_type": "code",
            "source": "cd ~/.kaggle",
            "execution_count": 21,
            "outputs": [
                {
                    "output_type": "stream",
                    "text": "/home/wsuser/.kaggle\n",
                    "name": "stdout"
                }
            ]
        },
        {
            "metadata": {},
            "cell_type": "markdown",
            "source": "<h2>Get API token from kaggle profile <code>Your profile>Account>API(Create new API token)</code></h2<"
        },
        {
            "metadata": {},
            "cell_type": "code",
            "source": "!echo '{\"username\":\"alexdinh\",\"key\":\"5056575ea8a85a232480ddb786526de0\"}' > ~/.kaggle/kaggle.json\n",
            "execution_count": 22,
            "outputs": []
        },
        {
            "metadata": {},
            "cell_type": "code",
            "source": "! cp kaggle.json ~/.kaggle/",
            "execution_count": 28,
            "outputs": [
                {
                    "output_type": "stream",
                    "text": "cp: 'kaggle.json' and '/home/wsuser/.kaggle/kaggle.json' are the same file\r\n",
                    "name": "stdout"
                }
            ]
        },
        {
            "metadata": {},
            "cell_type": "code",
            "source": " ! chmod 600 /home/wsuser/.kaggle/kaggle.json",
            "execution_count": 29,
            "outputs": []
        },
        {
            "metadata": {},
            "cell_type": "markdown",
            "source": "<h2>Download dataset</h2>"
        },
        {
            "metadata": {
                "scrolled": true
            },
            "cell_type": "code",
            "source": "!kaggle competitions download -c facial-keypoints-detection",
            "execution_count": 31,
            "outputs": [
                {
                    "output_type": "stream",
                    "text": "Downloading facial-keypoints-detection.zip to /home/wsuser/.kaggle\n 85%|\u2588\u2588\u2588\u2588\u2588\u2588\u2588\u2588\u2588\u2588\u2588\u2588\u2588\u2588\u2588\u2588\u2588\u2588\u2588\u2588\u2588\u2588\u2588\u2588\u2588\u2588\u2588\u2588\u2588\u2588\u2588\u2588\u258e     | 65.0M/76.3M [00:01<00:00, 30.7MB/s]\n100%|\u2588\u2588\u2588\u2588\u2588\u2588\u2588\u2588\u2588\u2588\u2588\u2588\u2588\u2588\u2588\u2588\u2588\u2588\u2588\u2588\u2588\u2588\u2588\u2588\u2588\u2588\u2588\u2588\u2588\u2588\u2588\u2588\u2588\u2588\u2588\u2588\u2588\u2588| 76.3M/76.3M [00:01<00:00, 41.4MB/s]\n",
                    "name": "stdout"
                }
            ]
        },
        {
            "metadata": {},
            "cell_type": "markdown",
            "source": ""
        },
        {
            "metadata": {},
            "cell_type": "code",
            "source": "cd ~/.kaggle",
            "execution_count": 34,
            "outputs": [
                {
                    "output_type": "stream",
                    "text": "/home/wsuser/.kaggle\n",
                    "name": "stdout"
                }
            ]
        },
        {
            "metadata": {},
            "cell_type": "code",
            "source": "ls ~/.kaggle",
            "execution_count": 35,
            "outputs": [
                {
                    "output_type": "stream",
                    "text": "facial-keypoints-detection.zip  kaggle.json\r\n",
                    "name": "stdout"
                }
            ]
        },
        {
            "metadata": {},
            "cell_type": "code",
            "source": "!unzip 'facial-keypoints-detection.zip'",
            "execution_count": 36,
            "outputs": [
                {
                    "output_type": "stream",
                    "text": "Archive:  facial-keypoints-detection.zip\n  inflating: IdLookupTable.csv       \n  inflating: SampleSubmission.csv    \n  inflating: test.zip                \n  inflating: training.zip            \n",
                    "name": "stdout"
                }
            ]
        },
        {
            "metadata": {},
            "cell_type": "code",
            "source": "ls\n",
            "execution_count": 37,
            "outputs": [
                {
                    "output_type": "stream",
                    "text": "facial-keypoints-detection.zip  kaggle.json           test.zip\r\nIdLookupTable.csv               SampleSubmission.csv  training.zip\r\n",
                    "name": "stdout"
                }
            ]
        },
        {
            "metadata": {},
            "cell_type": "code",
            "source": "",
            "execution_count": null,
            "outputs": []
        }
    ],
    "metadata": {
        "kernelspec": {
            "name": "python3",
            "display_name": "Python 3.7",
            "language": "python"
        },
        "language_info": {
            "name": "python",
            "version": "3.7.9",
            "mimetype": "text/x-python",
            "codemirror_mode": {
                "name": "ipython",
                "version": 3
            },
            "pygments_lexer": "ipython3",
            "nbconvert_exporter": "python",
            "file_extension": ".py"
        }
    },
    "nbformat": 4,
    "nbformat_minor": 1
}